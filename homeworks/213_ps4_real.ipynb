{
 "cells": [
  {
   "cell_type": "markdown",
   "metadata": {},
   "source": [
    "# Homework 4 - Titanic\n",
    "\n",
    "### Kaggle Classification Competition\n",
    "\n",
    "Here, we use the Kaggle dataset for Titanic survivors. We'll attempt to predict the survival of passengers of the Titanic based on a set of characteristics we know about them. \n",
    "\n",
    "### Background\n",
    "\n",
    "The Titanic was a large, luxury steamship that had its maiden voyage in April of 1912. At one point in its construction, in 1911, its hull was the largest movable man-made object in the world. It is famous for having what was once considered a \"practically unsinkable\" design, due to a double bottom and watertight bulkhead compartments.  Unfortunately, on April 15th, 1912, the Titanic crashed into an iceberg and sank, resulting in the deaths of 1502 out of the 2224 who were on board at the time. The belief that the ship was \"unsinkable\" partly led to the large number of deaths - there were not enough lifeboats for everyone to escape on, and many of those on board had no hope of survival (Info from [Kaggle](https://www.kaggle.com/c/titanic), [History](https://www.history.com/topics/titanic)).\n",
    "\n",
    "Since over half of the passengers and crew did not survive this accident, we have a large dataset of binary variables - 1 for a survivor, and 0 for someone who went down with the ship. Certain groups tended to survive more than others, such as women and children, as well as higher-class people. In addition to this \"survival\" variable, we have a set of other information about the passengers, such as their names, ticket number, and fare paid. We'll see how well we can (retroactively) predict the survival of a subset of the passengers on the ship.\n",
    "\n",
    "First, we'll load in the data we need for this project, along with libraries and packages that will come in handy:\n",
    "\n",
    "### Preparation\n",
    "\n",
    "##### Packages, Libraries, and Options:"
   ]
  },
  {
   "cell_type": "code",
   "execution_count": 1,
   "metadata": {},
   "outputs": [],
   "source": [
    "# Import useful tools\n",
    "import pandas as pd\n",
    "import numpy as np\n",
    "import seaborn as sns\n",
    "import matplotlib as mpl\n",
    "import matplotlib.pyplot as plt\n",
    "import math\n",
    "import sklearn\n",
    "import missingno as msno\n",
    "\n",
    "# Set settings for notebook\n",
    "sns.set(style='ticks', palette='Set2')\n",
    "%matplotlib inline\n",
    "plt.style.use('seaborn')\n",
    "pd.set_option('display.max_columns', 50)"
   ]
  },
  {
   "cell_type": "markdown",
   "metadata": {},
   "source": [
    "##### Data:\n",
    "\n",
    "First we read in the training dataset:"
   ]
  },
  {
   "cell_type": "code",
   "execution_count": 2,
   "metadata": {
    "scrolled": false
   },
   "outputs": [
    {
     "name": "stdout",
     "output_type": "stream",
     "text": [
      "(891, 12)\n"
     ]
    },
    {
     "data": {
      "text/html": [
       "<div>\n",
       "<style>\n",
       "    .dataframe thead tr:only-child th {\n",
       "        text-align: right;\n",
       "    }\n",
       "\n",
       "    .dataframe thead th {\n",
       "        text-align: left;\n",
       "    }\n",
       "\n",
       "    .dataframe tbody tr th {\n",
       "        vertical-align: top;\n",
       "    }\n",
       "</style>\n",
       "<table border=\"1\" class=\"dataframe\">\n",
       "  <thead>\n",
       "    <tr style=\"text-align: right;\">\n",
       "      <th></th>\n",
       "      <th>PassengerId</th>\n",
       "      <th>Survived</th>\n",
       "      <th>Pclass</th>\n",
       "      <th>Name</th>\n",
       "      <th>Sex</th>\n",
       "      <th>Age</th>\n",
       "      <th>SibSp</th>\n",
       "      <th>Parch</th>\n",
       "      <th>Ticket</th>\n",
       "      <th>Fare</th>\n",
       "      <th>Cabin</th>\n",
       "      <th>Embarked</th>\n",
       "    </tr>\n",
       "  </thead>\n",
       "  <tbody>\n",
       "    <tr>\n",
       "      <th>0</th>\n",
       "      <td>1</td>\n",
       "      <td>0</td>\n",
       "      <td>3</td>\n",
       "      <td>Braund, Mr. Owen Harris</td>\n",
       "      <td>male</td>\n",
       "      <td>22.0</td>\n",
       "      <td>1</td>\n",
       "      <td>0</td>\n",
       "      <td>A/5 21171</td>\n",
       "      <td>7.2500</td>\n",
       "      <td>NaN</td>\n",
       "      <td>S</td>\n",
       "    </tr>\n",
       "    <tr>\n",
       "      <th>1</th>\n",
       "      <td>2</td>\n",
       "      <td>1</td>\n",
       "      <td>1</td>\n",
       "      <td>Cumings, Mrs. John Bradley (Florence Briggs Th...</td>\n",
       "      <td>female</td>\n",
       "      <td>38.0</td>\n",
       "      <td>1</td>\n",
       "      <td>0</td>\n",
       "      <td>PC 17599</td>\n",
       "      <td>71.2833</td>\n",
       "      <td>C85</td>\n",
       "      <td>C</td>\n",
       "    </tr>\n",
       "    <tr>\n",
       "      <th>2</th>\n",
       "      <td>3</td>\n",
       "      <td>1</td>\n",
       "      <td>3</td>\n",
       "      <td>Heikkinen, Miss. Laina</td>\n",
       "      <td>female</td>\n",
       "      <td>26.0</td>\n",
       "      <td>0</td>\n",
       "      <td>0</td>\n",
       "      <td>STON/O2. 3101282</td>\n",
       "      <td>7.9250</td>\n",
       "      <td>NaN</td>\n",
       "      <td>S</td>\n",
       "    </tr>\n",
       "    <tr>\n",
       "      <th>3</th>\n",
       "      <td>4</td>\n",
       "      <td>1</td>\n",
       "      <td>1</td>\n",
       "      <td>Futrelle, Mrs. Jacques Heath (Lily May Peel)</td>\n",
       "      <td>female</td>\n",
       "      <td>35.0</td>\n",
       "      <td>1</td>\n",
       "      <td>0</td>\n",
       "      <td>113803</td>\n",
       "      <td>53.1000</td>\n",
       "      <td>C123</td>\n",
       "      <td>S</td>\n",
       "    </tr>\n",
       "    <tr>\n",
       "      <th>4</th>\n",
       "      <td>5</td>\n",
       "      <td>0</td>\n",
       "      <td>3</td>\n",
       "      <td>Allen, Mr. William Henry</td>\n",
       "      <td>male</td>\n",
       "      <td>35.0</td>\n",
       "      <td>0</td>\n",
       "      <td>0</td>\n",
       "      <td>373450</td>\n",
       "      <td>8.0500</td>\n",
       "      <td>NaN</td>\n",
       "      <td>S</td>\n",
       "    </tr>\n",
       "  </tbody>\n",
       "</table>\n",
       "</div>"
      ],
      "text/plain": [
       "   PassengerId  Survived  Pclass  \\\n",
       "0            1         0       3   \n",
       "1            2         1       1   \n",
       "2            3         1       3   \n",
       "3            4         1       1   \n",
       "4            5         0       3   \n",
       "\n",
       "                                                Name     Sex   Age  SibSp  \\\n",
       "0                            Braund, Mr. Owen Harris    male  22.0      1   \n",
       "1  Cumings, Mrs. John Bradley (Florence Briggs Th...  female  38.0      1   \n",
       "2                             Heikkinen, Miss. Laina  female  26.0      0   \n",
       "3       Futrelle, Mrs. Jacques Heath (Lily May Peel)  female  35.0      1   \n",
       "4                           Allen, Mr. William Henry    male  35.0      0   \n",
       "\n",
       "   Parch            Ticket     Fare Cabin Embarked  \n",
       "0      0         A/5 21171   7.2500   NaN        S  \n",
       "1      0          PC 17599  71.2833   C85        C  \n",
       "2      0  STON/O2. 3101282   7.9250   NaN        S  \n",
       "3      0            113803  53.1000  C123        S  \n",
       "4      0            373450   8.0500   NaN        S  "
      ]
     },
     "execution_count": 2,
     "metadata": {},
     "output_type": "execute_result"
    }
   ],
   "source": [
    "train_df = pd.read_csv('train.csv')\n",
    "print(train_df.shape)\n",
    "train_df.head()"
   ]
  },
  {
   "cell_type": "markdown",
   "metadata": {},
   "source": [
    "We need to separate our \"Y variable\", survival, from the rest for use in prediction. We'll do that here:"
   ]
  },
  {
   "cell_type": "code",
   "execution_count": 3,
   "metadata": {},
   "outputs": [],
   "source": [
    "# Separate outcome variable\n",
    "y_train = train_df['Survived']\n",
    "\n",
    "# Remove outcome variable from training data (to avoid extreme overfitting)\n",
    "train_data = train_df.drop('Survived', axis = 1)"
   ]
  },
  {
   "cell_type": "markdown",
   "metadata": {},
   "source": [
    "Now we read in the testing dataset, as well:"
   ]
  },
  {
   "cell_type": "code",
   "execution_count": 4,
   "metadata": {},
   "outputs": [
    {
     "name": "stdout",
     "output_type": "stream",
     "text": [
      "(418, 11)\n"
     ]
    },
    {
     "data": {
      "text/html": [
       "<div>\n",
       "<style>\n",
       "    .dataframe thead tr:only-child th {\n",
       "        text-align: right;\n",
       "    }\n",
       "\n",
       "    .dataframe thead th {\n",
       "        text-align: left;\n",
       "    }\n",
       "\n",
       "    .dataframe tbody tr th {\n",
       "        vertical-align: top;\n",
       "    }\n",
       "</style>\n",
       "<table border=\"1\" class=\"dataframe\">\n",
       "  <thead>\n",
       "    <tr style=\"text-align: right;\">\n",
       "      <th></th>\n",
       "      <th>PassengerId</th>\n",
       "      <th>Pclass</th>\n",
       "      <th>Name</th>\n",
       "      <th>Sex</th>\n",
       "      <th>Age</th>\n",
       "      <th>SibSp</th>\n",
       "      <th>Parch</th>\n",
       "      <th>Ticket</th>\n",
       "      <th>Fare</th>\n",
       "      <th>Cabin</th>\n",
       "      <th>Embarked</th>\n",
       "    </tr>\n",
       "  </thead>\n",
       "  <tbody>\n",
       "    <tr>\n",
       "      <th>0</th>\n",
       "      <td>892</td>\n",
       "      <td>3</td>\n",
       "      <td>Kelly, Mr. James</td>\n",
       "      <td>male</td>\n",
       "      <td>34.5</td>\n",
       "      <td>0</td>\n",
       "      <td>0</td>\n",
       "      <td>330911</td>\n",
       "      <td>7.8292</td>\n",
       "      <td>NaN</td>\n",
       "      <td>Q</td>\n",
       "    </tr>\n",
       "    <tr>\n",
       "      <th>1</th>\n",
       "      <td>893</td>\n",
       "      <td>3</td>\n",
       "      <td>Wilkes, Mrs. James (Ellen Needs)</td>\n",
       "      <td>female</td>\n",
       "      <td>47.0</td>\n",
       "      <td>1</td>\n",
       "      <td>0</td>\n",
       "      <td>363272</td>\n",
       "      <td>7.0000</td>\n",
       "      <td>NaN</td>\n",
       "      <td>S</td>\n",
       "    </tr>\n",
       "    <tr>\n",
       "      <th>2</th>\n",
       "      <td>894</td>\n",
       "      <td>2</td>\n",
       "      <td>Myles, Mr. Thomas Francis</td>\n",
       "      <td>male</td>\n",
       "      <td>62.0</td>\n",
       "      <td>0</td>\n",
       "      <td>0</td>\n",
       "      <td>240276</td>\n",
       "      <td>9.6875</td>\n",
       "      <td>NaN</td>\n",
       "      <td>Q</td>\n",
       "    </tr>\n",
       "    <tr>\n",
       "      <th>3</th>\n",
       "      <td>895</td>\n",
       "      <td>3</td>\n",
       "      <td>Wirz, Mr. Albert</td>\n",
       "      <td>male</td>\n",
       "      <td>27.0</td>\n",
       "      <td>0</td>\n",
       "      <td>0</td>\n",
       "      <td>315154</td>\n",
       "      <td>8.6625</td>\n",
       "      <td>NaN</td>\n",
       "      <td>S</td>\n",
       "    </tr>\n",
       "    <tr>\n",
       "      <th>4</th>\n",
       "      <td>896</td>\n",
       "      <td>3</td>\n",
       "      <td>Hirvonen, Mrs. Alexander (Helga E Lindqvist)</td>\n",
       "      <td>female</td>\n",
       "      <td>22.0</td>\n",
       "      <td>1</td>\n",
       "      <td>1</td>\n",
       "      <td>3101298</td>\n",
       "      <td>12.2875</td>\n",
       "      <td>NaN</td>\n",
       "      <td>S</td>\n",
       "    </tr>\n",
       "  </tbody>\n",
       "</table>\n",
       "</div>"
      ],
      "text/plain": [
       "   PassengerId  Pclass                                          Name     Sex  \\\n",
       "0          892       3                              Kelly, Mr. James    male   \n",
       "1          893       3              Wilkes, Mrs. James (Ellen Needs)  female   \n",
       "2          894       2                     Myles, Mr. Thomas Francis    male   \n",
       "3          895       3                              Wirz, Mr. Albert    male   \n",
       "4          896       3  Hirvonen, Mrs. Alexander (Helga E Lindqvist)  female   \n",
       "\n",
       "    Age  SibSp  Parch   Ticket     Fare Cabin Embarked  \n",
       "0  34.5      0      0   330911   7.8292   NaN        Q  \n",
       "1  47.0      1      0   363272   7.0000   NaN        S  \n",
       "2  62.0      0      0   240276   9.6875   NaN        Q  \n",
       "3  27.0      0      0   315154   8.6625   NaN        S  \n",
       "4  22.0      1      1  3101298  12.2875   NaN        S  "
      ]
     },
     "execution_count": 4,
     "metadata": {},
     "output_type": "execute_result"
    }
   ],
   "source": [
    "test_data = pd.read_csv('test.csv')\n",
    "print(test_data.shape)\n",
    "test_data.head()"
   ]
  },
  {
   "cell_type": "markdown",
   "metadata": {},
   "source": [
    "Perfect! We see that the datasets are very similar, with the only instantly noticeable difference being that the testing dataset has no data for survival (this makes perfect sense, since we are trying to predict survival). We can only see the first few rows of our data, but there already seem to be at least some issues with missing values and different types of entries. We'll proceed to the data-cleaning step now.\n",
    "\n",
    "## Cleaning\n",
    "\n",
    "We need to make sure our training and testing datasets are similarly structured, so as we go through each step, we'll perform each data-cleaning step on both datasets. We do this separately (rather than combining the two datasets) to ensure that our training data doesn't change our testing data unnecessarily."
   ]
  },
  {
   "cell_type": "markdown",
   "metadata": {},
   "source": [
    "##### Missing Data:\n",
    "\n",
    "We'll start by seeing which variables might have missing values:"
   ]
  },
  {
   "cell_type": "code",
   "execution_count": 5,
   "metadata": {
    "scrolled": false
   },
   "outputs": [
    {
     "data": {
      "text/plain": [
       "<matplotlib.axes._subplots.AxesSubplot at 0x102026a20>"
      ]
     },
     "execution_count": 5,
     "metadata": {},
     "output_type": "execute_result"
    },
    {
     "data": {
      "image/png": "[encoded data removed]",
      "text/plain": [
       "<matplotlib.figure.Figure at 0x109789f98>"
      ]
     },
     "metadata": {},
     "output_type": "display_data"
    },
    {
     "data": {
      "image/png": "[encoded data removed]",
      "text/plain": [
       "<matplotlib.figure.Figure at 0x109789c18>"
      ]
     },
     "metadata": {},
     "output_type": "display_data"
    }
   ],
   "source": [
    "msno.matrix(train_data)\n",
    "msno.matrix(test_data)"
   ]
  },
  {
   "cell_type": "markdown",
   "metadata": {},
   "source": [
    "Most of our columns appear to have no missing values, but there are a few in each dataset (most notably, \"age\" and \"cabin\") that have several. We'll look into this a little more:"
   ]
  },
  {
   "cell_type": "code",
   "execution_count": 6,
   "metadata": {
    "scrolled": true
   },
   "outputs": [
    {
     "data": {
      "text/plain": [
       "Index(['Age', 'Cabin', 'Embarked'], dtype='object')"
      ]
     },
     "execution_count": 6,
     "metadata": {},
     "output_type": "execute_result"
    }
   ],
   "source": [
    "train_data.columns[train_data.isnull().any()]"
   ]
  },
  {
   "cell_type": "code",
   "execution_count": 7,
   "metadata": {},
   "outputs": [
    {
     "data": {
      "text/plain": [
       "Index(['Age', 'Fare', 'Cabin'], dtype='object')"
      ]
     },
     "execution_count": 7,
     "metadata": {},
     "output_type": "execute_result"
    }
   ],
   "source": [
    "test_data.columns[test_data.isnull().any()]"
   ]
  },
  {
   "cell_type": "markdown",
   "metadata": {},
   "source": [
    "\"Age\" and \"cabin\" are both missing quite a bit of data for both datasets, so we'll have to do something about that. We can also see that there are some other missing values - \"embarked\" for the training dataset, and \"fare\" for the test dataset. We'll look into any patterns in which data is missing.\n",
    "\n",
    "First, as we can see below, the \"embarked\" and \"fare\" columns are only missing a few rows for each dataset. They have the same ticket number and paid the same fare, which is odd, but that may be because they were in the same cabin, and that's how tickets were done back then. Regardless, there are only two passengers, which won't impact our data much. Later on, we'll be making dummy variables for each departure point, and these two will just have 0 for all three possible departure point (which is what the \"embarked\" variable is for)."
   ]
  },
  {
   "cell_type": "code",
   "execution_count": 8,
   "metadata": {},
   "outputs": [
    {
     "data": {
      "text/html": [
       "<div>\n",
       "<style>\n",
       "    .dataframe thead tr:only-child th {\n",
       "        text-align: right;\n",
       "    }\n",
       "\n",
       "    .dataframe thead th {\n",
       "        text-align: left;\n",
       "    }\n",
       "\n",
       "    .dataframe tbody tr th {\n",
       "        vertical-align: top;\n",
       "    }\n",
       "</style>\n",
       "<table border=\"1\" class=\"dataframe\">\n",
       "  <thead>\n",
       "    <tr style=\"text-align: right;\">\n",
       "      <th></th>\n",
       "      <th>PassengerId</th>\n",
       "      <th>Pclass</th>\n",
       "      <th>Name</th>\n",
       "      <th>Sex</th>\n",
       "      <th>Age</th>\n",
       "      <th>SibSp</th>\n",
       "      <th>Parch</th>\n",
       "      <th>Ticket</th>\n",
       "      <th>Fare</th>\n",
       "      <th>Cabin</th>\n",
       "      <th>Embarked</th>\n",
       "    </tr>\n",
       "  </thead>\n",
       "  <tbody>\n",
       "    <tr>\n",
       "      <th>61</th>\n",
       "      <td>62</td>\n",
       "      <td>1</td>\n",
       "      <td>Icard, Miss. Amelie</td>\n",
       "      <td>female</td>\n",
       "      <td>38.0</td>\n",
       "      <td>0</td>\n",
       "      <td>0</td>\n",
       "      <td>113572</td>\n",
       "      <td>80.0</td>\n",
       "      <td>B28</td>\n",
       "      <td>NaN</td>\n",
       "    </tr>\n",
       "    <tr>\n",
       "      <th>829</th>\n",
       "      <td>830</td>\n",
       "      <td>1</td>\n",
       "      <td>Stone, Mrs. George Nelson (Martha Evelyn)</td>\n",
       "      <td>female</td>\n",
       "      <td>62.0</td>\n",
       "      <td>0</td>\n",
       "      <td>0</td>\n",
       "      <td>113572</td>\n",
       "      <td>80.0</td>\n",
       "      <td>B28</td>\n",
       "      <td>NaN</td>\n",
       "    </tr>\n",
       "  </tbody>\n",
       "</table>\n",
       "</div>"
      ],
      "text/plain": [
       "     PassengerId  Pclass                                       Name     Sex  \\\n",
       "61            62       1                        Icard, Miss. Amelie  female   \n",
       "829          830       1  Stone, Mrs. George Nelson (Martha Evelyn)  female   \n",
       "\n",
       "      Age  SibSp  Parch  Ticket  Fare Cabin Embarked  \n",
       "61   38.0      0      0  113572  80.0   B28      NaN  \n",
       "829  62.0      0      0  113572  80.0   B28      NaN  "
      ]
     },
     "execution_count": 8,
     "metadata": {},
     "output_type": "execute_result"
    }
   ],
   "source": [
    "train_data[train_data['Embarked'].isnull()]"
   ]
  },
  {
   "cell_type": "markdown",
   "metadata": {},
   "source": [
    "This next passenger has no fare data, which might be more of a problem. However, we can see that he is in the lower class of passengers."
   ]
  },
  {
   "cell_type": "code",
   "execution_count": 9,
   "metadata": {
    "scrolled": true
   },
   "outputs": [
    {
     "data": {
      "text/html": [
       "<div>\n",
       "<style>\n",
       "    .dataframe thead tr:only-child th {\n",
       "        text-align: right;\n",
       "    }\n",
       "\n",
       "    .dataframe thead th {\n",
       "        text-align: left;\n",
       "    }\n",
       "\n",
       "    .dataframe tbody tr th {\n",
       "        vertical-align: top;\n",
       "    }\n",
       "</style>\n",
       "<table border=\"1\" class=\"dataframe\">\n",
       "  <thead>\n",
       "    <tr style=\"text-align: right;\">\n",
       "      <th></th>\n",
       "      <th>PassengerId</th>\n",
       "      <th>Pclass</th>\n",
       "      <th>Name</th>\n",
       "      <th>Sex</th>\n",
       "      <th>Age</th>\n",
       "      <th>SibSp</th>\n",
       "      <th>Parch</th>\n",
       "      <th>Ticket</th>\n",
       "      <th>Fare</th>\n",
       "      <th>Cabin</th>\n",
       "      <th>Embarked</th>\n",
       "    </tr>\n",
       "  </thead>\n",
       "  <tbody>\n",
       "    <tr>\n",
       "      <th>152</th>\n",
       "      <td>1044</td>\n",
       "      <td>3</td>\n",
       "      <td>Storey, Mr. Thomas</td>\n",
       "      <td>male</td>\n",
       "      <td>60.5</td>\n",
       "      <td>0</td>\n",
       "      <td>0</td>\n",
       "      <td>3701</td>\n",
       "      <td>NaN</td>\n",
       "      <td>NaN</td>\n",
       "      <td>S</td>\n",
       "    </tr>\n",
       "  </tbody>\n",
       "</table>\n",
       "</div>"
      ],
      "text/plain": [
       "     PassengerId  Pclass                Name   Sex   Age  SibSp  Parch Ticket  \\\n",
       "152         1044       3  Storey, Mr. Thomas  male  60.5      0      0   3701   \n",
       "\n",
       "     Fare Cabin Embarked  \n",
       "152   NaN   NaN        S  "
      ]
     },
     "execution_count": 9,
     "metadata": {},
     "output_type": "execute_result"
    }
   ],
   "source": [
    "test_data[test_data['Fare'].isnull()]"
   ]
  },
  {
   "cell_type": "markdown",
   "metadata": {},
   "source": [
    "Before deciding what to do, we'll check the distribution of fares in the training dataset (just to get an idea of what it should look like in the testing dataset):"
   ]
  },
  {
   "cell_type": "code",
   "execution_count": 10,
   "metadata": {
    "scrolled": false
   },
   "outputs": [
    {
     "data": {
      "text/plain": [
       "Text(0.5,0,'Fares')"
      ]
     },
     "execution_count": 10,
     "metadata": {},
     "output_type": "execute_result"
    },
    {
     "data": {
      "image/png": "[encoded data removed]",
      "text/plain": [
       "<matplotlib.figure.Figure at 0x1049ddba8>"
      ]
     },
     "metadata": {},
     "output_type": "display_data"
    }
   ],
   "source": [
    "f, ax = plt.subplots(figsize = (14,4))\n",
    "ax.set_title(\"Distribution of Fares, Training Data\", fontsize = 18)\n",
    "sns.distplot(train_data['Fare'], ax = ax)\n",
    "plt.ylabel(\"Frequency\", fontsize = 14)\n",
    "plt.xlabel(\"Fares\", fontsize = 14)"
   ]
  },
  {
   "cell_type": "markdown",
   "metadata": {},
   "source": [
    "We can probably expect the fare distribution for the test dataset to be similar - we'll go ahead and replace this missing fare value with the median value for the training set's fares, and we'll check the distribution after we do that:"
   ]
  },
  {
   "cell_type": "code",
   "execution_count": 11,
   "metadata": {
    "scrolled": true
   },
   "outputs": [
    {
     "data": {
      "text/plain": [
       "Text(0.5,0,'Fares')"
      ]
     },
     "execution_count": 11,
     "metadata": {},
     "output_type": "execute_result"
    },
    {
     "data": {
      "image/png": "[encoded data removed]",
      "text/plain": [
       "<matplotlib.figure.Figure at 0x1097bc588>"
      ]
     },
     "metadata": {},
     "output_type": "display_data"
    }
   ],
   "source": [
    "# Fill in missing values with median fare data\n",
    "values = {'Fare': train_data['Fare'].median()}\n",
    "test_data = test_data.fillna(value = values)\n",
    "\n",
    "f, ax = plt.subplots(figsize = (14,4))\n",
    "ax.set_title(\"Distribution of Fares, Testing Data\", fontsize = 18)\n",
    "sns.distplot(test_data['Fare'], ax = ax)\n",
    "plt.ylabel(\"Frequency\", fontsize = 14)\n",
    "plt.xlabel(\"Fares\", fontsize = 14)"
   ]
  },
  {
   "cell_type": "markdown",
   "metadata": {},
   "source": [
    "Perfect! The distribution is similar, so it looks like choosing the median was the right thing to do (it will be closer to the bottom, since this is approximately log-normally distributed).\n",
    "\n",
    "Now that we've taken care of the smaller issues, we'll take a look at the \"cabin\" and \"age\" variables. We might suspect that the ship's logs aren't as great for those in the lower classes. We'll check to see if that's true (remember - a 3 stands for the lowest class passenger)."
   ]
  },
  {
   "cell_type": "markdown",
   "metadata": {},
   "source": [
    "First we look at the Age variable:"
   ]
  },
  {
   "cell_type": "code",
   "execution_count": 12,
   "metadata": {},
   "outputs": [
    {
     "data": {
      "text/html": [
       "<div>\n",
       "<style>\n",
       "    .dataframe thead tr:only-child th {\n",
       "        text-align: right;\n",
       "    }\n",
       "\n",
       "    .dataframe thead th {\n",
       "        text-align: left;\n",
       "    }\n",
       "\n",
       "    .dataframe tbody tr th {\n",
       "        vertical-align: top;\n",
       "    }\n",
       "</style>\n",
       "<table border=\"1\" class=\"dataframe\">\n",
       "  <thead>\n",
       "    <tr style=\"text-align: right;\">\n",
       "      <th></th>\n",
       "      <th>Pclass</th>\n",
       "    </tr>\n",
       "  </thead>\n",
       "  <tbody>\n",
       "    <tr>\n",
       "      <th>count</th>\n",
       "      <td>177.000000</td>\n",
       "    </tr>\n",
       "    <tr>\n",
       "      <th>mean</th>\n",
       "      <td>2.598870</td>\n",
       "    </tr>\n",
       "    <tr>\n",
       "      <th>std</th>\n",
       "      <td>0.763216</td>\n",
       "    </tr>\n",
       "    <tr>\n",
       "      <th>min</th>\n",
       "      <td>1.000000</td>\n",
       "    </tr>\n",
       "    <tr>\n",
       "      <th>25%</th>\n",
       "      <td>3.000000</td>\n",
       "    </tr>\n",
       "    <tr>\n",
       "      <th>50%</th>\n",
       "      <td>3.000000</td>\n",
       "    </tr>\n",
       "    <tr>\n",
       "      <th>75%</th>\n",
       "      <td>3.000000</td>\n",
       "    </tr>\n",
       "    <tr>\n",
       "      <th>max</th>\n",
       "      <td>3.000000</td>\n",
       "    </tr>\n",
       "  </tbody>\n",
       "</table>\n",
       "</div>"
      ],
      "text/plain": [
       "           Pclass\n",
       "count  177.000000\n",
       "mean     2.598870\n",
       "std      0.763216\n",
       "min      1.000000\n",
       "25%      3.000000\n",
       "50%      3.000000\n",
       "75%      3.000000\n",
       "max      3.000000"
      ]
     },
     "execution_count": 12,
     "metadata": {},
     "output_type": "execute_result"
    }
   ],
   "source": [
    "pd.DataFrame(train_data[train_data['Age'].isnull()]['Pclass']).describe()"
   ]
  },
  {
   "cell_type": "markdown",
   "metadata": {},
   "source": [
    "As suspected, we see more missing values among the lower-class passengers (at least 50% of all of the missing values for these variables are for lower-class passengers). We'll check how age distributions vary between upper and lower-class passengers:"
   ]
  },
  {
   "cell_type": "code",
   "execution_count": 13,
   "metadata": {},
   "outputs": [
    {
     "data": {
      "text/html": [
       "<div>\n",
       "<style>\n",
       "    .dataframe thead tr:only-child th {\n",
       "        text-align: right;\n",
       "    }\n",
       "\n",
       "    .dataframe thead th {\n",
       "        text-align: left;\n",
       "    }\n",
       "\n",
       "    .dataframe tbody tr th {\n",
       "        vertical-align: top;\n",
       "    }\n",
       "</style>\n",
       "<table border=\"1\" class=\"dataframe\">\n",
       "  <thead>\n",
       "    <tr style=\"text-align: right;\">\n",
       "      <th></th>\n",
       "      <th>Age</th>\n",
       "    </tr>\n",
       "  </thead>\n",
       "  <tbody>\n",
       "    <tr>\n",
       "      <th>count</th>\n",
       "      <td>355.000000</td>\n",
       "    </tr>\n",
       "    <tr>\n",
       "      <th>mean</th>\n",
       "      <td>25.140620</td>\n",
       "    </tr>\n",
       "    <tr>\n",
       "      <th>std</th>\n",
       "      <td>12.495398</td>\n",
       "    </tr>\n",
       "    <tr>\n",
       "      <th>min</th>\n",
       "      <td>0.420000</td>\n",
       "    </tr>\n",
       "    <tr>\n",
       "      <th>25%</th>\n",
       "      <td>18.000000</td>\n",
       "    </tr>\n",
       "    <tr>\n",
       "      <th>50%</th>\n",
       "      <td>24.000000</td>\n",
       "    </tr>\n",
       "    <tr>\n",
       "      <th>75%</th>\n",
       "      <td>32.000000</td>\n",
       "    </tr>\n",
       "    <tr>\n",
       "      <th>max</th>\n",
       "      <td>74.000000</td>\n",
       "    </tr>\n",
       "  </tbody>\n",
       "</table>\n",
       "</div>"
      ],
      "text/plain": [
       "              Age\n",
       "count  355.000000\n",
       "mean    25.140620\n",
       "std     12.495398\n",
       "min      0.420000\n",
       "25%     18.000000\n",
       "50%     24.000000\n",
       "75%     32.000000\n",
       "max     74.000000"
      ]
     },
     "execution_count": 13,
     "metadata": {},
     "output_type": "execute_result"
    }
   ],
   "source": [
    "pd.DataFrame(train_data[train_data['Pclass'] == 3]['Age']).describe()"
   ]
  },
  {
   "cell_type": "code",
   "execution_count": 14,
   "metadata": {},
   "outputs": [
    {
     "data": {
      "text/html": [
       "<div>\n",
       "<style>\n",
       "    .dataframe thead tr:only-child th {\n",
       "        text-align: right;\n",
       "    }\n",
       "\n",
       "    .dataframe thead th {\n",
       "        text-align: left;\n",
       "    }\n",
       "\n",
       "    .dataframe tbody tr th {\n",
       "        vertical-align: top;\n",
       "    }\n",
       "</style>\n",
       "<table border=\"1\" class=\"dataframe\">\n",
       "  <thead>\n",
       "    <tr style=\"text-align: right;\">\n",
       "      <th></th>\n",
       "      <th>Age</th>\n",
       "    </tr>\n",
       "  </thead>\n",
       "  <tbody>\n",
       "    <tr>\n",
       "      <th>count</th>\n",
       "      <td>186.000000</td>\n",
       "    </tr>\n",
       "    <tr>\n",
       "      <th>mean</th>\n",
       "      <td>38.233441</td>\n",
       "    </tr>\n",
       "    <tr>\n",
       "      <th>std</th>\n",
       "      <td>14.802856</td>\n",
       "    </tr>\n",
       "    <tr>\n",
       "      <th>min</th>\n",
       "      <td>0.920000</td>\n",
       "    </tr>\n",
       "    <tr>\n",
       "      <th>25%</th>\n",
       "      <td>27.000000</td>\n",
       "    </tr>\n",
       "    <tr>\n",
       "      <th>50%</th>\n",
       "      <td>37.000000</td>\n",
       "    </tr>\n",
       "    <tr>\n",
       "      <th>75%</th>\n",
       "      <td>49.000000</td>\n",
       "    </tr>\n",
       "    <tr>\n",
       "      <th>max</th>\n",
       "      <td>80.000000</td>\n",
       "    </tr>\n",
       "  </tbody>\n",
       "</table>\n",
       "</div>"
      ],
      "text/plain": [
       "              Age\n",
       "count  186.000000\n",
       "mean    38.233441\n",
       "std     14.802856\n",
       "min      0.920000\n",
       "25%     27.000000\n",
       "50%     37.000000\n",
       "75%     49.000000\n",
       "max     80.000000"
      ]
     },
     "execution_count": 14,
     "metadata": {},
     "output_type": "execute_result"
    }
   ],
   "source": [
    "pd.DataFrame(train_data[train_data['Pclass'] == 1]['Age']).describe()"
   ]
  },
  {
   "cell_type": "markdown",
   "metadata": {},
   "source": [
    "Average age actually varies a bit across classes - as we see below, the lower-class passengers are an average of 13 years younger than the higher-class passengers. Since most of the missing ages are for 3rd-class passengers, we'll replace their age with the 3rd-class average age. We'll do that after looking at the cabin variable:"
   ]
  },
  {
   "cell_type": "code",
   "execution_count": 15,
   "metadata": {},
   "outputs": [
    {
     "data": {
      "text/html": [
       "<div>\n",
       "<style>\n",
       "    .dataframe thead tr:only-child th {\n",
       "        text-align: right;\n",
       "    }\n",
       "\n",
       "    .dataframe thead th {\n",
       "        text-align: left;\n",
       "    }\n",
       "\n",
       "    .dataframe tbody tr th {\n",
       "        vertical-align: top;\n",
       "    }\n",
       "</style>\n",
       "<table border=\"1\" class=\"dataframe\">\n",
       "  <thead>\n",
       "    <tr style=\"text-align: right;\">\n",
       "      <th></th>\n",
       "      <th>Pclass</th>\n",
       "    </tr>\n",
       "  </thead>\n",
       "  <tbody>\n",
       "    <tr>\n",
       "      <th>count</th>\n",
       "      <td>687.000000</td>\n",
       "    </tr>\n",
       "    <tr>\n",
       "      <th>mean</th>\n",
       "      <td>2.639010</td>\n",
       "    </tr>\n",
       "    <tr>\n",
       "      <th>std</th>\n",
       "      <td>0.589602</td>\n",
       "    </tr>\n",
       "    <tr>\n",
       "      <th>min</th>\n",
       "      <td>1.000000</td>\n",
       "    </tr>\n",
       "    <tr>\n",
       "      <th>25%</th>\n",
       "      <td>2.000000</td>\n",
       "    </tr>\n",
       "    <tr>\n",
       "      <th>50%</th>\n",
       "      <td>3.000000</td>\n",
       "    </tr>\n",
       "    <tr>\n",
       "      <th>75%</th>\n",
       "      <td>3.000000</td>\n",
       "    </tr>\n",
       "    <tr>\n",
       "      <th>max</th>\n",
       "      <td>3.000000</td>\n",
       "    </tr>\n",
       "  </tbody>\n",
       "</table>\n",
       "</div>"
      ],
      "text/plain": [
       "           Pclass\n",
       "count  687.000000\n",
       "mean     2.639010\n",
       "std      0.589602\n",
       "min      1.000000\n",
       "25%      2.000000\n",
       "50%      3.000000\n",
       "75%      3.000000\n",
       "max      3.000000"
      ]
     },
     "execution_count": 15,
     "metadata": {},
     "output_type": "execute_result"
    }
   ],
   "source": [
    "pd.DataFrame(train_data[train_data['Cabin'].isnull()]['Pclass']).describe()"
   ]
  },
  {
   "cell_type": "markdown",
   "metadata": {},
   "source": [
    "It looks like even more of those missing a cabin value were in the lower-class passenger group. To avoid over-fitting the data (and since cabin group is easier to group by than number), we'll drop the cabin number and just keep the letter."
   ]
  },
  {
   "cell_type": "code",
   "execution_count": 16,
   "metadata": {},
   "outputs": [],
   "source": [
    "# Isolate cabin letters\n",
    "train_data['CabinLetter'] = train_data.Cabin.str[:1]\n",
    "train_data = train_data.drop('Cabin', 1)\n",
    "\n",
    "test_data['CabinLetter'] = test_data.Cabin.str[:1]\n",
    "test_data = test_data.drop('Cabin', 1)"
   ]
  },
  {
   "cell_type": "markdown",
   "metadata": {},
   "source": [
    "We'll replace the \"cabin letter\" value with \"N\" for \"no cabin\" (it's not already a value). We can replace missing age now, too:"
   ]
  },
  {
   "cell_type": "code",
   "execution_count": 17,
   "metadata": {},
   "outputs": [
    {
     "name": "stdout",
     "output_type": "stream",
     "text": [
      "Age    24.027945\n",
      "dtype: float64\n",
      "\n",
      "Age    25.14062\n",
      "dtype: float64\n"
     ]
    }
   ],
   "source": [
    "print(pd.DataFrame(test_data[test_data['Pclass'] == 3]['Age']).mean())\n",
    "print(\"\")\n",
    "print(pd.DataFrame(train_data[train_data['Pclass'] == 3]['Age']).mean())"
   ]
  },
  {
   "cell_type": "code",
   "execution_count": 18,
   "metadata": {},
   "outputs": [],
   "source": [
    "# Replace missing values with mean age for 3rd-class passengers\n",
    "test_data['CabinLetter'] = test_data.CabinLetter.str[:1]\n",
    "values = {'CabinLetter': \"N\", 'Age': 24.028}\n",
    "test_data = test_data.fillna(value = values)\n",
    "\n",
    "train_data['CabinLetter'] = train_data.CabinLetter.str[:1]\n",
    "values = {'CabinLetter': \"N\", 'Age': 25.141}\n",
    "train_data = train_data.fillna(value = values)"
   ]
  },
  {
   "cell_type": "markdown",
   "metadata": {},
   "source": [
    "Now we'll check once more for missing values:"
   ]
  },
  {
   "cell_type": "code",
   "execution_count": 19,
   "metadata": {},
   "outputs": [
    {
     "data": {
      "text/plain": [
       "Index([], dtype='object')"
      ]
     },
     "execution_count": 19,
     "metadata": {},
     "output_type": "execute_result"
    }
   ],
   "source": [
    "test_data.columns[test_data.isnull().any()]"
   ]
  },
  {
   "cell_type": "code",
   "execution_count": 20,
   "metadata": {
    "scrolled": true
   },
   "outputs": [
    {
     "data": {
      "text/plain": [
       "Index(['Embarked'], dtype='object')"
      ]
     },
     "execution_count": 20,
     "metadata": {},
     "output_type": "execute_result"
    }
   ],
   "source": [
    "train_data.columns[train_data.isnull().any()]"
   ]
  },
  {
   "cell_type": "markdown",
   "metadata": {},
   "source": [
    "Perfect! Now our only missing values are for \"embarked\" in the training dataset (which, as we've already mentioned, is ok - there are only two entries with missing values, and we'll just use dummy variables to control for this effect).\n",
    "\n",
    "##### Cleaning:"
   ]
  },
  {
   "cell_type": "markdown",
   "metadata": {},
   "source": [
    "We want to make a few new variables. This will require splitting a few string variables into pieces to get what's important. For example, the \"cabin\" variable might help us understand more info about the person's status or proximity to a lifeboat, so we'll just take the first letter of this variable (when it exists) to indicate which group of cabins that person was staying in. Even for those who have no cabin information, we can just replace this value with \"N\" (for \"no cabin information\").\n",
    "\n",
    "We'll also split up the name to retrieve the title, such as \"Mr.\", \"Reverend\", \"Doctor\", or \"Ms.\", since certain classes of people may have had priority over others. We'll then drop our unnecessary variables and see how the data looks:"
   ]
  },
  {
   "cell_type": "code",
   "execution_count": 21,
   "metadata": {},
   "outputs": [
    {
     "data": {
      "text/html": [
       "<div>\n",
       "<style>\n",
       "    .dataframe thead tr:only-child th {\n",
       "        text-align: right;\n",
       "    }\n",
       "\n",
       "    .dataframe thead th {\n",
       "        text-align: left;\n",
       "    }\n",
       "\n",
       "    .dataframe tbody tr th {\n",
       "        vertical-align: top;\n",
       "    }\n",
       "</style>\n",
       "<table border=\"1\" class=\"dataframe\">\n",
       "  <thead>\n",
       "    <tr style=\"text-align: right;\">\n",
       "      <th></th>\n",
       "      <th>PassengerId</th>\n",
       "      <th>Pclass</th>\n",
       "      <th>Sex</th>\n",
       "      <th>Age</th>\n",
       "      <th>SibSp</th>\n",
       "      <th>Parch</th>\n",
       "      <th>Ticket</th>\n",
       "      <th>Fare</th>\n",
       "      <th>Embarked</th>\n",
       "      <th>CabinLetter</th>\n",
       "      <th>Title</th>\n",
       "    </tr>\n",
       "  </thead>\n",
       "  <tbody>\n",
       "    <tr>\n",
       "      <th>0</th>\n",
       "      <td>1</td>\n",
       "      <td>3</td>\n",
       "      <td>male</td>\n",
       "      <td>22.0</td>\n",
       "      <td>1</td>\n",
       "      <td>0</td>\n",
       "      <td>A/5 21171</td>\n",
       "      <td>7.2500</td>\n",
       "      <td>S</td>\n",
       "      <td>N</td>\n",
       "      <td>Mr.</td>\n",
       "    </tr>\n",
       "    <tr>\n",
       "      <th>1</th>\n",
       "      <td>2</td>\n",
       "      <td>1</td>\n",
       "      <td>female</td>\n",
       "      <td>38.0</td>\n",
       "      <td>1</td>\n",
       "      <td>0</td>\n",
       "      <td>PC 17599</td>\n",
       "      <td>71.2833</td>\n",
       "      <td>C</td>\n",
       "      <td>C</td>\n",
       "      <td>Mrs.</td>\n",
       "    </tr>\n",
       "    <tr>\n",
       "      <th>2</th>\n",
       "      <td>3</td>\n",
       "      <td>3</td>\n",
       "      <td>female</td>\n",
       "      <td>26.0</td>\n",
       "      <td>0</td>\n",
       "      <td>0</td>\n",
       "      <td>STON/O2. 3101282</td>\n",
       "      <td>7.9250</td>\n",
       "      <td>S</td>\n",
       "      <td>N</td>\n",
       "      <td>Miss.</td>\n",
       "    </tr>\n",
       "    <tr>\n",
       "      <th>3</th>\n",
       "      <td>4</td>\n",
       "      <td>1</td>\n",
       "      <td>female</td>\n",
       "      <td>35.0</td>\n",
       "      <td>1</td>\n",
       "      <td>0</td>\n",
       "      <td>113803</td>\n",
       "      <td>53.1000</td>\n",
       "      <td>S</td>\n",
       "      <td>C</td>\n",
       "      <td>Mrs.</td>\n",
       "    </tr>\n",
       "    <tr>\n",
       "      <th>4</th>\n",
       "      <td>5</td>\n",
       "      <td>3</td>\n",
       "      <td>male</td>\n",
       "      <td>35.0</td>\n",
       "      <td>0</td>\n",
       "      <td>0</td>\n",
       "      <td>373450</td>\n",
       "      <td>8.0500</td>\n",
       "      <td>S</td>\n",
       "      <td>N</td>\n",
       "      <td>Mr.</td>\n",
       "    </tr>\n",
       "  </tbody>\n",
       "</table>\n",
       "</div>"
      ],
      "text/plain": [
       "   PassengerId  Pclass     Sex   Age  SibSp  Parch            Ticket     Fare  \\\n",
       "0            1       3    male  22.0      1      0         A/5 21171   7.2500   \n",
       "1            2       1  female  38.0      1      0          PC 17599  71.2833   \n",
       "2            3       3  female  26.0      0      0  STON/O2. 3101282   7.9250   \n",
       "3            4       1  female  35.0      1      0            113803  53.1000   \n",
       "4            5       3    male  35.0      0      0            373450   8.0500   \n",
       "\n",
       "  Embarked CabinLetter  Title  \n",
       "0        S           N    Mr.  \n",
       "1        C           C   Mrs.  \n",
       "2        S           N  Miss.  \n",
       "3        S           C   Mrs.  \n",
       "4        S           N    Mr.  "
      ]
     },
     "execution_count": 21,
     "metadata": {},
     "output_type": "execute_result"
    }
   ],
   "source": [
    "# Separate first word from the rest of the name\n",
    "train_data['first'], train_data['titlefirsts'] = train_data['Name'].str.split(', ', 1).str\n",
    "\n",
    "# Separate title from the first names\n",
    "train_data['Title'], train_data['firsts'] = train_data['titlefirsts'].str.split(' ', 1).str\n",
    "\n",
    "# Drop unnecessary variables\n",
    "to_drop = ['Name', 'titlefirsts', 'first', 'firsts']\n",
    "train_data = train_data.drop(to_drop, 1)\n",
    "train_data.head()"
   ]
  },
  {
   "cell_type": "markdown",
   "metadata": {},
   "source": [
    "We'll do the same for the testing data:"
   ]
  },
  {
   "cell_type": "code",
   "execution_count": 22,
   "metadata": {
    "scrolled": false
   },
   "outputs": [
    {
     "data": {
      "text/html": [
       "<div>\n",
       "<style>\n",
       "    .dataframe thead tr:only-child th {\n",
       "        text-align: right;\n",
       "    }\n",
       "\n",
       "    .dataframe thead th {\n",
       "        text-align: left;\n",
       "    }\n",
       "\n",
       "    .dataframe tbody tr th {\n",
       "        vertical-align: top;\n",
       "    }\n",
       "</style>\n",
       "<table border=\"1\" class=\"dataframe\">\n",
       "  <thead>\n",
       "    <tr style=\"text-align: right;\">\n",
       "      <th></th>\n",
       "      <th>PassengerId</th>\n",
       "      <th>Pclass</th>\n",
       "      <th>Sex</th>\n",
       "      <th>Age</th>\n",
       "      <th>SibSp</th>\n",
       "      <th>Parch</th>\n",
       "      <th>Ticket</th>\n",
       "      <th>Fare</th>\n",
       "      <th>Embarked</th>\n",
       "      <th>CabinLetter</th>\n",
       "      <th>Title</th>\n",
       "    </tr>\n",
       "  </thead>\n",
       "  <tbody>\n",
       "    <tr>\n",
       "      <th>0</th>\n",
       "      <td>892</td>\n",
       "      <td>3</td>\n",
       "      <td>male</td>\n",
       "      <td>34.5</td>\n",
       "      <td>0</td>\n",
       "      <td>0</td>\n",
       "      <td>330911</td>\n",
       "      <td>7.8292</td>\n",
       "      <td>Q</td>\n",
       "      <td>N</td>\n",
       "      <td>Mr.</td>\n",
       "    </tr>\n",
       "    <tr>\n",
       "      <th>1</th>\n",
       "      <td>893</td>\n",
       "      <td>3</td>\n",
       "      <td>female</td>\n",
       "      <td>47.0</td>\n",
       "      <td>1</td>\n",
       "      <td>0</td>\n",
       "      <td>363272</td>\n",
       "      <td>7.0000</td>\n",
       "      <td>S</td>\n",
       "      <td>N</td>\n",
       "      <td>Mrs.</td>\n",
       "    </tr>\n",
       "    <tr>\n",
       "      <th>2</th>\n",
       "      <td>894</td>\n",
       "      <td>2</td>\n",
       "      <td>male</td>\n",
       "      <td>62.0</td>\n",
       "      <td>0</td>\n",
       "      <td>0</td>\n",
       "      <td>240276</td>\n",
       "      <td>9.6875</td>\n",
       "      <td>Q</td>\n",
       "      <td>N</td>\n",
       "      <td>Mr.</td>\n",
       "    </tr>\n",
       "    <tr>\n",
       "      <th>3</th>\n",
       "      <td>895</td>\n",
       "      <td>3</td>\n",
       "      <td>male</td>\n",
       "      <td>27.0</td>\n",
       "      <td>0</td>\n",
       "      <td>0</td>\n",
       "      <td>315154</td>\n",
       "      <td>8.6625</td>\n",
       "      <td>S</td>\n",
       "      <td>N</td>\n",
       "      <td>Mr.</td>\n",
       "    </tr>\n",
       "    <tr>\n",
       "      <th>4</th>\n",
       "      <td>896</td>\n",
       "      <td>3</td>\n",
       "      <td>female</td>\n",
       "      <td>22.0</td>\n",
       "      <td>1</td>\n",
       "      <td>1</td>\n",
       "      <td>3101298</td>\n",
       "      <td>12.2875</td>\n",
       "      <td>S</td>\n",
       "      <td>N</td>\n",
       "      <td>Mrs.</td>\n",
       "    </tr>\n",
       "  </tbody>\n",
       "</table>\n",
       "</div>"
      ],
      "text/plain": [
       "   PassengerId  Pclass     Sex   Age  SibSp  Parch   Ticket     Fare Embarked  \\\n",
       "0          892       3    male  34.5      0      0   330911   7.8292        Q   \n",
       "1          893       3  female  47.0      1      0   363272   7.0000        S   \n",
       "2          894       2    male  62.0      0      0   240276   9.6875        Q   \n",
       "3          895       3    male  27.0      0      0   315154   8.6625        S   \n",
       "4          896       3  female  22.0      1      1  3101298  12.2875        S   \n",
       "\n",
       "  CabinLetter Title  \n",
       "0           N   Mr.  \n",
       "1           N  Mrs.  \n",
       "2           N   Mr.  \n",
       "3           N   Mr.  \n",
       "4           N  Mrs.  "
      ]
     },
     "execution_count": 22,
     "metadata": {},
     "output_type": "execute_result"
    }
   ],
   "source": [
    "# Separate first word from the rest of the name\n",
    "test_data['first'], test_data['titlefirsts'] = test_data['Name'].str.split(', ', 1).str\n",
    "\n",
    "# Separate title from the first names\n",
    "test_data['Title'], test_data['firsts'] = test_data['titlefirsts'].str.split(' ', 1).str\n",
    "\n",
    "# Drop unnecessary variables\n",
    "to_drop = ['Name', 'titlefirsts', 'first', 'firsts']\n",
    "test_data = test_data.drop(to_drop, 1)\n",
    "test_data.head()"
   ]
  },
  {
   "cell_type": "markdown",
   "metadata": {},
   "source": [
    "We'll now pull the ticket number from the ticket column - it's a bit complicated, since there are sometimes letters and symbols used here:"
   ]
  },
  {
   "cell_type": "code",
   "execution_count": 23,
   "metadata": {
    "scrolled": true
   },
   "outputs": [],
   "source": [
    "# Separate ticket variable \n",
    "test_data['TickL1'], test_data['TickL2'], test_data['TicketNum'] = test_data['Ticket'].str.split(' ', 2).str\n",
    "\n",
    "# Fill in missing ticket numbers with columns containing only the numbers \n",
    "#    (there are two columns because of the formatting of the data)\n",
    "values = {'TicketNum': test_data['TickL2']}\n",
    "test_data = test_data.fillna(value = values)\n",
    "values = {'TicketNum': test_data['TickL1']}\n",
    "test_data = test_data.fillna(value = values)\n",
    "\n",
    "# Drop unnecessary variables and change ticket number from string to integer\n",
    "test_data = test_data.drop(['TickL1', 'TickL2', 'Ticket'], 1)\n",
    "test_data['TicketNum'] = test_data['TicketNum'].apply(pd.to_numeric)"
   ]
  },
  {
   "cell_type": "markdown",
   "metadata": {},
   "source": [
    "We'll do the same thing for the training data, although we need to make one edit (the second to last line) for a troublesome bit of data. We'll replace the value with 300000, since many other 3rd-class passengers have ticket numbers around this (this is a case-specific fix)."
   ]
  },
  {
   "cell_type": "code",
   "execution_count": 24,
   "metadata": {},
   "outputs": [],
   "source": [
    "# We follow the same process as above\n",
    "train_data['TickL1'], train_data['TickL2'], train_data['TicketNum'] = train_data['Ticket'].str.split(' ', 2).str\n",
    "values = {'TicketNum': train_data['TickL2']}\n",
    "train_data = train_data.fillna(value = values)\n",
    "values = {'TicketNum': train_data['TickL1']}\n",
    "train_data = train_data.fillna(value = values)\n",
    "train_data = train_data.drop(['TickL1', 'TickL2', 'Ticket'], 1)\n",
    "train_data['TicketNum'] = np.where(train_data['TicketNum'] == \"LINE\", 300000, train_data['TicketNum'])\n",
    "train_data['TicketNum'] = train_data['TicketNum'].apply(pd.to_numeric)"
   ]
  },
  {
   "cell_type": "markdown",
   "metadata": {},
   "source": [
    "##### Dummy Variables:\n",
    "\n",
    "We can see that we have a few string variables that we'd like to turn into numerical dummy variables - we'll do that now:"
   ]
  },
  {
   "cell_type": "code",
   "execution_count": 25,
   "metadata": {
    "scrolled": true
   },
   "outputs": [],
   "source": [
    "# Variable list to convert into dummy variables\n",
    "to_dummies = ['Sex', 'Embarked', 'CabinLetter', 'Title']\n",
    "\n",
    "# Loop through the list to create dummy variables for both dataframes\n",
    "for var in to_dummies:\n",
    "    tempdat = pd.get_dummies(train_data[var], prefix = var)\n",
    "    train_data = pd.concat([train_data, tempdat], axis = 1)\n",
    "    \n",
    "    tempdat = pd.get_dummies(test_data[var], prefix = var)\n",
    "    test_data = pd.concat([test_data, tempdat], axis = 1)\n",
    "    \n",
    "# Drop unnecessary variables\n",
    "train_data = train_data.drop(to_dummies, 1)\n",
    "test_data = test_data.drop(to_dummies, 1)"
   ]
  },
  {
   "cell_type": "markdown",
   "metadata": {},
   "source": [
    "Now we just need to make sure our training and testing data have the same dimensions. We'll check the lists now:"
   ]
  },
  {
   "cell_type": "code",
   "execution_count": 26,
   "metadata": {
    "scrolled": true
   },
   "outputs": [
    {
     "name": "stdout",
     "output_type": "stream",
     "text": [
      "Index(['PassengerId', 'Pclass', 'Age', 'SibSp', 'Parch', 'Fare', 'TicketNum',\n",
      "       'Sex_female', 'Sex_male', 'Embarked_C', 'Embarked_Q', 'Embarked_S',\n",
      "       'CabinLetter_A', 'CabinLetter_B', 'CabinLetter_C', 'CabinLetter_D',\n",
      "       'CabinLetter_E', 'CabinLetter_F', 'CabinLetter_G', 'CabinLetter_N',\n",
      "       'CabinLetter_T', 'Title_Capt.', 'Title_Col.', 'Title_Don.', 'Title_Dr.',\n",
      "       'Title_Jonkheer.', 'Title_Lady.', 'Title_Major.', 'Title_Master.',\n",
      "       'Title_Miss.', 'Title_Mlle.', 'Title_Mme.', 'Title_Mr.', 'Title_Mrs.',\n",
      "       'Title_Ms.', 'Title_Rev.', 'Title_Sir.', 'Title_the'],\n",
      "      dtype='object')\n",
      "\n",
      "Index(['PassengerId', 'Pclass', 'Age', 'SibSp', 'Parch', 'Fare', 'TicketNum',\n",
      "       'Sex_female', 'Sex_male', 'Embarked_C', 'Embarked_Q', 'Embarked_S',\n",
      "       'CabinLetter_A', 'CabinLetter_B', 'CabinLetter_C', 'CabinLetter_D',\n",
      "       'CabinLetter_E', 'CabinLetter_F', 'CabinLetter_G', 'CabinLetter_N',\n",
      "       'Title_Col.', 'Title_Dona.', 'Title_Dr.', 'Title_Master.',\n",
      "       'Title_Miss.', 'Title_Mr.', 'Title_Mrs.', 'Title_Ms.', 'Title_Rev.'],\n",
      "      dtype='object')\n"
     ]
    }
   ],
   "source": [
    "print(train_data.columns)\n",
    "print(\"\")\n",
    "print(test_data.columns)"
   ]
  },
  {
   "cell_type": "markdown",
   "metadata": {},
   "source": [
    "We've got a couple differences - we'll drop all of the variables that only appear in one dataset to prevent any problems. By examining the data, we see that a few of the variables we've created only apply to a couple of the passengers. \"Title_Jonkheer\" is a good example of this, since it is an uncommon honorific term that apparently applies to only one of the passengers in the training data."
   ]
  },
  {
   "cell_type": "code",
   "execution_count": 27,
   "metadata": {},
   "outputs": [
    {
     "name": "stdout",
     "output_type": "stream",
     "text": [
      "Index(['PassengerId', 'Pclass', 'Age', 'SibSp', 'Parch', 'Fare', 'TicketNum',\n",
      "       'Sex_female', 'Sex_male', 'Embarked_C', 'Embarked_Q', 'Embarked_S',\n",
      "       'CabinLetter_A', 'CabinLetter_B', 'CabinLetter_C', 'CabinLetter_D',\n",
      "       'CabinLetter_E', 'CabinLetter_F', 'CabinLetter_G', 'CabinLetter_N',\n",
      "       'Title_Col.', 'Title_Dr.', 'Title_Master.', 'Title_Miss.', 'Title_Mr.',\n",
      "       'Title_Mrs.', 'Title_Ms.', 'Title_Rev.'],\n",
      "      dtype='object')\n",
      "\n",
      "Index(['PassengerId', 'Pclass', 'Age', 'SibSp', 'Parch', 'Fare', 'TicketNum',\n",
      "       'Sex_female', 'Sex_male', 'Embarked_C', 'Embarked_Q', 'Embarked_S',\n",
      "       'CabinLetter_A', 'CabinLetter_B', 'CabinLetter_C', 'CabinLetter_D',\n",
      "       'CabinLetter_E', 'CabinLetter_F', 'CabinLetter_G', 'CabinLetter_N',\n",
      "       'Title_Col.', 'Title_Dr.', 'Title_Master.', 'Title_Miss.', 'Title_Mr.',\n",
      "       'Title_Mrs.', 'Title_Ms.', 'Title_Rev.'],\n",
      "      dtype='object')\n"
     ]
    }
   ],
   "source": [
    "# Drop variables that only appear in one dataset\n",
    "train_data = train_data.drop(['CabinLetter_T', 'Title_Capt.', 'Title_Don.', 'Title_Jonkheer.', 'Title_Lady.',\n",
    "                              'Title_Major.', 'Title_Mlle.', 'Title_Mme.', 'Title_Sir.', 'Title_the'], 1)\n",
    "test_data = test_data.drop(['Title_Dona.'], 1)\n",
    "\n",
    "# Print column names again to make sure they match\n",
    "print(train_data.columns)\n",
    "print(\"\")\n",
    "print(test_data.columns)"
   ]
  },
  {
   "cell_type": "markdown",
   "metadata": {},
   "source": [
    "Perfect! We've got everything just how we want it for our analysis. Now we'll visualize a bit of the data so we can understand it.\n",
    "\n",
    "## Visualization\n",
    "\n",
    "We've already looked a little bit at age and fare distribution. Let's take a look at the training dataset again to use some of the categories there (it'll be easier for our graphs to use it instead of the new, cleaned dataset). We'll make a few edits and then start to look at some charts.\n",
    "\n",
    "First, we'll make age buckets with 6-year intervals, where the value for \"AgeBin\" is the largest multiple of 6 less than or equal to the person's age. Then repeat our creation of the cabin group dummy variables. Finally, we'll create a title variable."
   ]
  },
  {
   "cell_type": "code",
   "execution_count": 28,
   "metadata": {},
   "outputs": [],
   "source": [
    "# Create age buckets\n",
    "train_df['AgeBin'] = train_df['Age'] / .6\n",
    "train_df['AgeBin'] = np.round(train_df['AgeBin'], -1)\n",
    "train_df['AgeBin'] = train_df['AgeBin'] * .6\n",
    "\n",
    "# Replace missing cabin letters with N (and create cabin letter variable)\n",
    "train_df['CabinL'] = train_df.Cabin.str[:1]\n",
    "values = {'CabinL': \"N\"}\n",
    "train_df = train_df.fillna(value = values)\n",
    "\n",
    "# Retrieve titles from name variable, discard unnecessary information\n",
    "train_df['first'], train_df['titlefirsts'] = train_df['Name'].str.split(', ', 1).str\n",
    "train_df['Title'], train_df['firsts'] = train_df['titlefirsts'].str.split(' ', 1).str\n",
    "to_drop = ['Name', 'titlefirsts', 'first', 'firsts']\n",
    "train_df = train_df.drop(to_drop, 1)"
   ]
  },
  {
   "cell_type": "markdown",
   "metadata": {},
   "source": [
    "Now that we have our new variables, we can look at how survival varies by group. In our first graph, we'll examine average survival rates for men and women, across their age buckets."
   ]
  },
  {
   "cell_type": "code",
   "execution_count": 29,
   "metadata": {
    "scrolled": false
   },
   "outputs": [
    {
     "data": {
      "text/plain": [
       "Text(0.5,0,'Sex')"
      ]
     },
     "execution_count": 29,
     "metadata": {},
     "output_type": "execute_result"
    },
    {
     "data": {
      "image/png": "[encoded data removed]",
      "text/plain": [
       "<matplotlib.figure.Figure at 0x1a160f8278>"
      ]
     },
     "metadata": {},
     "output_type": "display_data"
    }
   ],
   "source": [
    "f, ax = plt.subplots(figsize = (16,6))\n",
    "ax.set_title(\"Male and Female Survival, by Age Bucket\", fontsize = 18)\n",
    "sns.barplot(x=\"Sex\", y=\"Survived\", hue = \"AgeBin\", data=train_df, ax = ax, capsize=.02)\n",
    "plt.ylabel(\"Survival Rate\", fontsize = 14)\n",
    "plt.xlabel(\"Sex\", fontsize = 14)"
   ]
  },
  {
   "cell_type": "markdown",
   "metadata": {},
   "source": [
    "We can tell that although men and women have different survival rates across the board, these survival rates depend significantly on the age of the passengers. Over half of the young boys in the training dataset survived, which is a stark difference from those just a decade or two older.\n",
    "\n",
    "Next, we will examine how survival rates varied by cabin group. Remember that we assigned the group \"N\" to those who were missing cabin data, and that the other letters came from the cabin variable provided."
   ]
  },
  {
   "cell_type": "code",
   "execution_count": 30,
   "metadata": {},
   "outputs": [
    {
     "data": {
      "text/plain": [
       "Text(0.5,0,'Cabin Group')"
      ]
     },
     "execution_count": 30,
     "metadata": {},
     "output_type": "execute_result"
    },
    {
     "data": {
      "image/png": "[encoded data removed]",
      "text/plain": [
       "<matplotlib.figure.Figure at 0x1a16119a58>"
      ]
     },
     "metadata": {},
     "output_type": "display_data"
    }
   ],
   "source": [
    "f, ax = plt.subplots(figsize = (16,6))\n",
    "ax.set_title(\"Male and Female Survival Rates Per Cabin Group\", fontsize = 18)\n",
    "sns.barplot(x=\"CabinL\", y=\"Survived\", hue=\"Sex\", data=train_df, ax = ax, capsize=.02, palette=\"Blues_d\")\n",
    "plt.ylabel(\"Survival Rate\", fontsize = 14)\n",
    "plt.xlabel(\"Cabin Group\", fontsize = 14)"
   ]
  },
  {
   "cell_type": "markdown",
   "metadata": {},
   "source": [
    "Again, women survived much more frequently. It is interesting to note that although there was less variance in female survival rates by cabin, male survival seems to depend much more on the cabin group.\n",
    "\n",
    "Finally, we'll examine the graph of survival rate by titles. This is perhaps the most valuable information we can gather from the name variable."
   ]
  },
  {
   "cell_type": "code",
   "execution_count": 31,
   "metadata": {},
   "outputs": [
    {
     "data": {
      "text/plain": [
       "Text(0.5,0,'Title')"
      ]
     },
     "execution_count": 31,
     "metadata": {},
     "output_type": "execute_result"
    },
    {
     "data": {
      "image/png": "[encoded data removed]",
      "text/plain": [
       "<matplotlib.figure.Figure at 0x1097bc550>"
      ]
     },
     "metadata": {},
     "output_type": "display_data"
    }
   ],
   "source": [
    "f, ax = plt.subplots(figsize = (16,6))\n",
    "ax.set_title(\"Survival Rates by Title (Status)\", fontsize = 18)\n",
    "sns.barplot(x=\"Title\", y=\"Survived\", data=train_df, ax = ax, capsize = .02)\n",
    "plt.ylabel(\"Survival Rate\", fontsize = 14)\n",
    "plt.xlabel(\"Title\", fontsize = 14)"
   ]
  },
  {
   "cell_type": "markdown",
   "metadata": {},
   "source": [
    "Some titles had perfect survival rate - this is most likely due to a very small number of survivors having that title. The interesting part comes from the more common titles, such as \"Mr.\", \"Mrs.\", and \"Dr.\", all of which had different survival rates.\n",
    "\n",
    "This is interesting, but it is difficult to look at graphs and accurately predict survival. That leads us to the next step - modeling survival rates."
   ]
  },
  {
   "cell_type": "markdown",
   "metadata": {},
   "source": [
    "## Modeling\n",
    "\n",
    "We'll now start the modeling process. First, we import the packages we'll need for this section:"
   ]
  },
  {
   "cell_type": "code",
   "execution_count": 32,
   "metadata": {},
   "outputs": [],
   "source": [
    "# Import modeling tools\n",
    "from sklearn.model_selection import GridSearchCV as GSCV\n",
    "from sklearn.linear_model import LogisticRegressionCV as logitcv\n",
    "from sklearn.metrics import accuracy_score as AS\n",
    "from sklearn.metrics import confusion_matrix as CM\n",
    "from sklearn.svm import SVC\n",
    "from sklearn.ensemble import RandomForestClassifier as entmoot\n",
    "from sklearn.neighbors import KNeighborsClassifier as KNC\n",
    "from sklearn.ensemble import GradientBoostingClassifier as GBC\n",
    "from sklearn.metrics import classification_report as CR"
   ]
  },
  {
   "cell_type": "markdown",
   "metadata": {},
   "source": [
    "### Logistic Regression\n",
    "\n",
    "We'll start with a simple logistic regression. This has the advantage of being easy to understand - whatever coefficients we receive from our model, we can exponentiate to get an approximate effect of having a certain characteristic (for example, a 30% increase in expected survival if someone is under 12 years old)."
   ]
  },
  {
   "cell_type": "code",
   "execution_count": 33,
   "metadata": {},
   "outputs": [],
   "source": [
    "# Set up cross-validation for logistic regression\n",
    "lcv = logitcv(tol=.00000001, cv = 5, Cs=[1, .1, .01, .001, .0001], \n",
    "            solver='liblinear', scoring='accuracy')"
   ]
  },
  {
   "cell_type": "markdown",
   "metadata": {},
   "source": [
    "Now we'll fit the model and predict on our training data:"
   ]
  },
  {
   "cell_type": "code",
   "execution_count": 34,
   "metadata": {},
   "outputs": [],
   "source": [
    "lcv.fit(train_data, y_train)\n",
    "y_pred_lcv = lcv.predict(train_data)"
   ]
  },
  {
   "cell_type": "markdown",
   "metadata": {},
   "source": [
    "We'll now print out the accuracy score, confusion matrix, and classification report to see how we did:"
   ]
  },
  {
   "cell_type": "code",
   "execution_count": 35,
   "metadata": {
    "scrolled": true
   },
   "outputs": [
    {
     "name": "stdout",
     "output_type": "stream",
     "text": [
      "\n",
      "Accuracy Score:\n",
      "0.835016835017\n",
      "\n",
      "Confusion Matrix:\n",
      "[[481  79]\n",
      " [ 68 263]]\n",
      "\n",
      "Classification Report:\n",
      "             precision    recall  f1-score   support\n",
      "\n",
      "          0       0.88      0.86      0.87       560\n",
      "          1       0.77      0.79      0.78       331\n",
      "\n",
      "avg / total       0.84      0.84      0.84       891\n",
      "\n"
     ]
    }
   ],
   "source": [
    "print(\"\\nAccuracy Score:\")\n",
    "print(AS(y_pred_lcv, y_train))\n",
    "print(\"\\nConfusion Matrix:\")\n",
    "print(CM(y_pred_lcv, y_train))\n",
    "print(\"\\nClassification Report:\")\n",
    "print(CR(y_pred_lcv, y_train))"
   ]
  },
  {
   "cell_type": "markdown",
   "metadata": {},
   "source": [
    "As previously mentioned, one advantage of the logistic model is that we get a good understanding of how each feature impacts the probability of survival. We'll take a look below:"
   ]
  },
  {
   "cell_type": "code",
   "execution_count": 36,
   "metadata": {},
   "outputs": [
    {
     "data": {
      "text/plain": [
       "Text(0,0.5,'Important Factors')"
      ]
     },
     "execution_count": 36,
     "metadata": {},
     "output_type": "execute_result"
    },
    {
     "data": {
      "image/png": "[encoded data removed]",
      "text/plain": [
       "<matplotlib.figure.Figure at 0x1a16f10c18>"
      ]
     },
     "metadata": {},
     "output_type": "display_data"
    }
   ],
   "source": [
    "# Pull important coefficients\n",
    "coef = pd.Series(lcv.coef_[0], index = train_data.columns)\n",
    "important_coef = pd.concat([coef.sort_values().head(5), coef.sort_values().tail(5)])\n",
    "\n",
    "# Graph coefficient values\n",
    "mpl.rcParams['figure.figsize'] = (14.0, 10.0)\n",
    "important_coef.plot(kind = \"barh\")\n",
    "plt.title(\"Coefficients in the Logistic Model\", fontsize = 18)\n",
    "plt.xlabel(\"Coefficient Value\", fontsize = 14)\n",
    "plt.ylabel(\"Important Factors\", fontsize = 14)"
   ]
  },
  {
   "cell_type": "markdown",
   "metadata": {},
   "source": [
    "We see a lot of the same patterns that appeared during visualization - the men tended to survive less than the women, although young boys had a high survival rate. Certain cabins fared better than others, and chances of survival diminished with passenger class.\n",
    "\n",
    "We can now predict values for our test data:"
   ]
  },
  {
   "cell_type": "code",
   "execution_count": 37,
   "metadata": {},
   "outputs": [],
   "source": [
    "test_pred_lcv = lcv.predict(test_data)\n",
    "ps3_submit = pd.DataFrame({'PassengerId': test_data.PassengerId, 'Survived': test_pred_lcv})\n",
    "ps3_submit.to_csv('titanic_lcv.csv', index=False)"
   ]
  },
  {
   "cell_type": "markdown",
   "metadata": {},
   "source": [
    "### K Nearest Neighbors\n",
    "\n",
    "We'll now try to use K Nearest Neighbors to predict survival on our training dataset. K nearest neighbors is a process that looks at the most similar, or \"nearest\", data points around each individual value and uses voting to classify each person as having survived or passed away. Since there are a few hyperparameters that could be used (the number of neighbors to \"poll\", the types of weights to use, and the metric used in evaluation), we'll use a Grid Search and cross-validation to test several hyperparameters and avoid overfitting as best as possible.\n",
    "\n",
    "We've already imported the code, so we'll begin:"
   ]
  },
  {
   "cell_type": "code",
   "execution_count": 38,
   "metadata": {},
   "outputs": [],
   "source": [
    "knc = KNC()\n",
    "\n",
    "# Set up grid search for parameters, cross-validation on 5 folds\n",
    "gscv = GSCV(knc, {\"n_neighbors\": [1, 3, 5, 7, 9], \"weights\": ['uniform', 'distance'], \n",
    "                                'p': [1, 2, 3]}, scoring='neg_mean_squared_error', cv = 5)\n",
    "\n",
    "# Fit data\n",
    "gscv.fit(train_data, y_train)\n",
    "\n",
    "# Predict target values\n",
    "y_pred_k = gscv.predict(train_data)"
   ]
  },
  {
   "cell_type": "markdown",
   "metadata": {},
   "source": [
    "Now let's see what percent of the data we correctly predicted:"
   ]
  },
  {
   "cell_type": "code",
   "execution_count": 39,
   "metadata": {},
   "outputs": [
    {
     "name": "stdout",
     "output_type": "stream",
     "text": [
      "\n",
      "Accuracy Score:\n",
      "1.0\n",
      "\n",
      "Confusion Matrix:\n",
      "[[549   0]\n",
      " [  0 342]]\n",
      "\n",
      "Classification Report:\n",
      "             precision    recall  f1-score   support\n",
      "\n",
      "          0       1.00      1.00      1.00       549\n",
      "          1       1.00      1.00      1.00       342\n",
      "\n",
      "avg / total       1.00      1.00      1.00       891\n",
      "\n"
     ]
    }
   ],
   "source": [
    "print(\"\\nAccuracy Score:\")\n",
    "print(AS(y_pred_k, y_train))\n",
    "print(\"\\nConfusion Matrix:\")\n",
    "print(CM(y_pred_k, y_train))\n",
    "print(\"\\nClassification Report:\")\n",
    "print(CR(y_pred_k, y_train))"
   ]
  },
  {
   "cell_type": "markdown",
   "metadata": {},
   "source": [
    "Our model predicted everything 100% correct, so it would seem that our model is overfitting the data. However, we are using cross-validation, so we've made an effort to not overfit too much.\n",
    "\n",
    "We'll go ahead and predict survival for our test data:"
   ]
  },
  {
   "cell_type": "code",
   "execution_count": 40,
   "metadata": {},
   "outputs": [],
   "source": [
    "test_pred_k = gscv.predict(test_data)\n",
    "ps3_submit = pd.DataFrame({'PassengerId': test_data.PassengerId, 'Survived': test_pred_k})\n",
    "ps3_submit.to_csv('titanic_k.csv', index=False)"
   ]
  },
  {
   "cell_type": "markdown",
   "metadata": {},
   "source": [
    "### Random Forest\n",
    "\n",
    "A random forest makes use of decision trees - the algorithm uses Gini impurity scores to determine \"splitting points\" or nodes where the data can be sorted into the purest class groups possible. The tree \"grows\" and adds more nodes, sorting data by passing it through the branches of the tree, until it arrives at a leaf node. Upon arriving at the leaf node, it is then classified as belonging to a certain group.\n",
    "\n",
    "Decision trees are combined in a random forest, when different decision trees are trained on distinct subsets and features of the dataset. This allows the combined \"forest\" to receive votes from several different models, which have been separated in order to reduce the variance of the model."
   ]
  },
  {
   "cell_type": "code",
   "execution_count": 41,
   "metadata": {},
   "outputs": [
    {
     "data": {
      "text/plain": [
       "RandomForestClassifier(bootstrap=True, class_weight='balanced',\n",
       "            criterion='gini', max_depth=5, max_features='auto',\n",
       "            max_leaf_nodes=None, min_impurity_decrease=0.0,\n",
       "            min_impurity_split=None, min_samples_leaf=1,\n",
       "            min_samples_split=2, min_weight_fraction_leaf=0.0,\n",
       "            n_estimators=1000, n_jobs=1, oob_score=False,\n",
       "            random_state=None, verbose=0, warm_start=False)"
      ]
     },
     "execution_count": 41,
     "metadata": {},
     "output_type": "execute_result"
    }
   ],
   "source": [
    "# List of possible estimator numbers\n",
    "n_est = [1000, 2000, 3000]\n",
    "\n",
    "# List of possible maximum depths for the trees\n",
    "max_depth = [1, 2, 3, 5]\n",
    "\n",
    "# List of possible class weights, and beginning value for accuracy\n",
    "class_weights = ['balanced', 'balanced_subsample', None]\n",
    "best_acc = 0\n",
    "\n",
    "# Grid search\n",
    "for est in n_est:\n",
    "    for depth in max_depth:\n",
    "        for wgt in class_weights:\n",
    "            ents = entmoot(n_estimators=est, max_depth=depth, oob_score=True, class_weight=wgt)\n",
    "            ents.fit(train_data, y_train)\n",
    "            acc = AS(y_train, np.argmax(ents.oob_decision_function_ , 1))\n",
    "            \n",
    "            # Update best parameter list if the latest model is best\n",
    "            if acc > best_acc:\n",
    "                best_acc = acc\n",
    "                best_params = (est, depth, wgt)\n",
    "\n",
    "# Fit model based on the best parameters, as found by the model\n",
    "ents = entmoot(n_estimators=best_params[0], max_depth=best_params[1], class_weight=best_params[2])\n",
    "ents.fit(train_data, y_train)"
   ]
  },
  {
   "cell_type": "markdown",
   "metadata": {},
   "source": [
    "Now we'll use the best parameters, as found above, to predict our target values. We'll then see our accuracy:"
   ]
  },
  {
   "cell_type": "code",
   "execution_count": 42,
   "metadata": {},
   "outputs": [
    {
     "name": "stdout",
     "output_type": "stream",
     "text": [
      "\n",
      "Accuracy Score:\n",
      "1.0\n",
      "\n",
      "Confusion Matrix:\n",
      "[[549   0]\n",
      " [  0 342]]\n",
      "\n",
      "Classification Report:\n",
      "             precision    recall  f1-score   support\n",
      "\n",
      "          0       1.00      1.00      1.00       549\n",
      "          1       1.00      1.00      1.00       342\n",
      "\n",
      "avg / total       1.00      1.00      1.00       891\n",
      "\n"
     ]
    }
   ],
   "source": [
    "# Predict values\n",
    "y_pred_ents = ents.predict(train_data)\n",
    "\n",
    "# Report model performance\n",
    "print(\"\\nAccuracy Score:\")\n",
    "print(AS(y_pred_k, y_train))\n",
    "print(\"\\nConfusion Matrix:\")\n",
    "print(CM(y_pred_k, y_train))\n",
    "print(\"\\nClassification Report:\")\n",
    "print(CR(y_pred_k, y_train))"
   ]
  },
  {
   "cell_type": "markdown",
   "metadata": {},
   "source": [
    "Again, we see we have 100% accuracy. We'll have to see how well this model does in the Kaggle competition - we'll predict these test values right here."
   ]
  },
  {
   "cell_type": "code",
   "execution_count": 43,
   "metadata": {},
   "outputs": [],
   "source": [
    "test_pred_ents = ents.predict(test_data)\n",
    "ps3_submit = pd.DataFrame({'PassengerId': test_data.PassengerId, 'Survived': test_pred_ents})\n",
    "ps3_submit.to_csv('titanic_ents.csv', index=False)"
   ]
  },
  {
   "cell_type": "markdown",
   "metadata": {},
   "source": [
    "### Gradient Boosting\n",
    "\n",
    "Boosting is another method, in which successive models are trained to overcome the weaknesses of their predecessors. Gradient boosting, which we will now use, incorporates decision trees and trains them (after the first one) to predict the residual values. These other trees' predictions are summed with the first to make a total prediction for each variable, with the hope that combining models in this way will predict all values well without overfitting.\n",
    "\n",
    "We'll use a grid search to try out a few different hyperparameters, as we've done before:"
   ]
  },
  {
   "cell_type": "code",
   "execution_count": 44,
   "metadata": {},
   "outputs": [
    {
     "data": {
      "text/plain": [
       "GridSearchCV(cv=5, error_score='raise',\n",
       "       estimator=GradientBoostingClassifier(criterion='friedman_mse', init=None,\n",
       "              learning_rate=0.1, loss='deviance', max_depth=3,\n",
       "              max_features=None, max_leaf_nodes=None,\n",
       "              min_impurity_decrease=0.0, min_impurity_split=None,\n",
       "              min_samples_leaf=1, min_samples_split=2,\n",
       "              min_weight_fraction_leaf=0.0, n_estimators=100,\n",
       "              presort='auto', random_state=None, subsample=1.0, verbose=0,\n",
       "              warm_start=False),\n",
       "       fit_params=None, iid=True, n_jobs=1,\n",
       "       param_grid={'learning_rate': [0.1, 0.01, 0.001, 0.0001], 'n_estimators': [100, 250, 500], 'max_depth': [1, 3, 5]},\n",
       "       pre_dispatch='2*n_jobs', refit=True, return_train_score='warn',\n",
       "       scoring='accuracy', verbose=0)"
      ]
     },
     "execution_count": 44,
     "metadata": {},
     "output_type": "execute_result"
    }
   ],
   "source": [
    "# Set up model\n",
    "gbc = GBC()\n",
    "gscv = GSCV(gbc, {\"learning_rate\": [.1, .01, .001, .0001,], \"n_estimators\": [100, 250, 500],\n",
    "                                'max_depth': [1, 3, 5]}, scoring='accuracy', cv = 5)\n",
    "\n",
    "# Fit model\n",
    "gscv.fit(train_data, y_train)"
   ]
  },
  {
   "cell_type": "markdown",
   "metadata": {},
   "source": [
    "Now that we've fit the model, we can see how our model performs on the training dataset."
   ]
  },
  {
   "cell_type": "code",
   "execution_count": 45,
   "metadata": {},
   "outputs": [
    {
     "name": "stdout",
     "output_type": "stream",
     "text": [
      "\n",
      "Accuracy Score:\n",
      "1.0\n",
      "\n",
      "Confusion Matrix:\n",
      "[[549   0]\n",
      " [  0 342]]\n",
      "\n",
      "Classification Report:\n",
      "             precision    recall  f1-score   support\n",
      "\n",
      "          0       1.00      1.00      1.00       549\n",
      "          1       1.00      1.00      1.00       342\n",
      "\n",
      "avg / total       1.00      1.00      1.00       891\n",
      "\n"
     ]
    }
   ],
   "source": [
    "# Predict values\n",
    "y_pred_boost = gscv.predict(train_data)\n",
    "\n",
    "# Report on model performance\n",
    "print(\"\\nAccuracy Score:\")\n",
    "print(AS(y_pred_k, y_train))\n",
    "print(\"\\nConfusion Matrix:\")\n",
    "print(CM(y_pred_k, y_train))\n",
    "print(\"\\nClassification Report:\")\n",
    "print(CR(y_pred_k, y_train))"
   ]
  },
  {
   "cell_type": "markdown",
   "metadata": {},
   "source": [
    "Again, there seems to be overfitting, even with cross-validation. We'll now use our model to predict survival for the testing dataset:"
   ]
  },
  {
   "cell_type": "code",
   "execution_count": 46,
   "metadata": {},
   "outputs": [],
   "source": [
    "test_pred_boost = gscv.predict(test_data)\n",
    "ps3_submit = pd.DataFrame({'PassengerId': test_data.PassengerId, 'Survived': test_pred_boost})\n",
    "ps3_submit.to_csv('titanic_boost.csv', index=False)"
   ]
  },
  {
   "cell_type": "markdown",
   "metadata": {},
   "source": [
    "### Conclusions\n",
    "\n",
    "We've been able to test out a few different models. Some appear to have over-fit the data, even when making efforts to cross-validate and control for that. \n",
    "\n",
    "It is interesting to note that, at least in the case of the logistic regression, we were able to see which values would be important just from looking at the graph. However, this model wasn't perfect, and it would be much harder to predict each individual's survival without the use of these models.\n",
    "\n",
    "There were fewer features provided in this dataset than in others (for example, the housing prices dataset). However, even with a relatively small amount of information, near-accurate prediction is still possible. It's always better to have some data and some idea than to rely on guessing and intuition."
   ]
  }
 ],
 "metadata": {
  "kernelspec": {
   "display_name": "Python 3",
   "language": "python",
   "name": "python3"
  },
  "language_info": {
   "codemirror_mode": {
    "name": "ipython",
    "version": 3
   },
   "file_extension": ".py",
   "mimetype": "text/x-python",
   "name": "python",
   "nbconvert_exporter": "python",
   "pygments_lexer": "ipython3",
   "version": "3.6.3"
  }
 },
 "nbformat": 4,
 "nbformat_minor": 2
}
